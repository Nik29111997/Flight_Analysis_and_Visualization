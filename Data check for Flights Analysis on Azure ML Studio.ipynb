{
 "cells": [
  {
   "cell_type": "code",
   "execution_count": 2,
   "id": "a4310553",
   "metadata": {},
   "outputs": [
    {
     "name": "stdout",
     "output_type": "stream",
     "text": [
      "           DEP_DELAY  ARR_DELAY\n",
      "DEP_DELAY   1.000000   0.964805\n",
      "ARR_DELAY   0.964805   1.000000\n"
     ]
    }
   ],
   "source": [
    "import pandas as pd\n",
    "\n",
    "# Load your dataset\n",
    "df = pd.read_csv('/users/nik/downloads/flights.csv')\n",
    "\n",
    "# Calculate the correlation matrix\n",
    "correlation_matrix = df[['DEP_DELAY', 'ARR_DELAY']].corr()\n",
    "\n",
    "# Display the correlation matrix\n",
    "print(correlation_matrix)\n"
   ]
  },
  {
   "cell_type": "code",
   "execution_count": 3,
   "id": "6b214d8e",
   "metadata": {},
   "outputs": [
    {
     "name": "stdout",
     "output_type": "stream",
     "text": [
      "FL_DATE                     0.000000\n",
      "AIRLINE                     0.000000\n",
      "AIRLINE_DOT                 0.000000\n",
      "AIRLINE_CODE                0.000000\n",
      "DOT_CODE                    0.000000\n",
      "FL_NUMBER                   0.000000\n",
      "ORIGIN                      0.000000\n",
      "ORIGIN_CITY                 0.000000\n",
      "DEST                        0.000000\n",
      "DEST_CITY                   0.000000\n",
      "CRS_DEP_TIME                0.000000\n",
      "DEP_TIME                    2.587167\n",
      "DEP_DELAY                   2.588133\n",
      "TAXI_OUT                    2.626867\n",
      "WHEELS_OFF                  2.626867\n",
      "WHEELS_ON                   2.664800\n",
      "TAXI_IN                     2.664800\n",
      "CRS_ARR_TIME                0.000000\n",
      "ARR_TIME                    2.664733\n",
      "ARR_DELAY                   2.873267\n",
      "CANCELLED                   0.000000\n",
      "CANCELLATION_CODE          97.362000\n",
      "DIVERTED                    0.000000\n",
      "CRS_ELAPSED_TIME            0.000467\n",
      "ELAPSED_TIME                2.873267\n",
      "AIR_TIME                    2.873267\n",
      "DISTANCE                    0.000000\n",
      "DELAY_DUE_CARRIER          82.204567\n",
      "DELAY_DUE_WEATHER          82.204567\n",
      "DELAY_DUE_NAS              82.204567\n",
      "DELAY_DUE_SECURITY         82.204567\n",
      "DELAY_DUE_LATE_AIRCRAFT    82.204567\n",
      "dtype: float64\n"
     ]
    }
   ],
   "source": [
    "# Assuming df is your DataFrame\n",
    "missing_percentage = df.isnull().mean() * 100\n",
    "print(missing_percentage)"
   ]
  },
  {
   "cell_type": "code",
   "execution_count": 5,
   "id": "cce3904c",
   "metadata": {},
   "outputs": [
    {
     "data": {
      "text/plain": [
       "0    0.0\n",
       "1    0.0\n",
       "2    0.0\n",
       "3    0.0\n",
       "4    0.0\n",
       "5    0.0\n",
       "6    0.0\n",
       "7    0.0\n",
       "8    0.0\n",
       "9    0.0\n",
       "Name: CANCELLED, dtype: float64"
      ]
     },
     "execution_count": 5,
     "metadata": {},
     "output_type": "execute_result"
    }
   ],
   "source": [
    "df.CANCELLED.head(10)"
   ]
  },
  {
   "cell_type": "code",
   "execution_count": 6,
   "id": "f9fd6f16",
   "metadata": {},
   "outputs": [
    {
     "name": "stderr",
     "output_type": "stream",
     "text": [
      "/var/folders/3v/0fsn5wjj15q2w84swynj29_r0000gn/T/ipykernel_5150/270832339.py:2: FutureWarning: The default value of numeric_only in DataFrame.corr is deprecated. In a future version, it will default to False. Select only valid columns or specify the value of numeric_only to silence this warning.\n",
      "  correlation = df.corr()\n"
     ]
    },
    {
     "name": "stdout",
     "output_type": "stream",
     "text": [
      "DOT_CODE                  -0.003576\n",
      "FL_NUMBER                  0.011324\n",
      "CRS_DEP_TIME               0.011832\n",
      "DEP_TIME                   0.007799\n",
      "DEP_DELAY                  0.024757\n",
      "TAXI_OUT                   0.005974\n",
      "WHEELS_OFF                 0.004101\n",
      "WHEELS_ON                       NaN\n",
      "TAXI_IN                         NaN\n",
      "CRS_ARR_TIME               0.006653\n",
      "ARR_TIME                        NaN\n",
      "ARR_DELAY                       NaN\n",
      "CANCELLED                  1.000000\n",
      "DIVERTED                  -0.007992\n",
      "CRS_ELAPSED_TIME          -0.015436\n",
      "ELAPSED_TIME                    NaN\n",
      "AIR_TIME                        NaN\n",
      "DISTANCE                  -0.017814\n",
      "DELAY_DUE_CARRIER               NaN\n",
      "DELAY_DUE_WEATHER               NaN\n",
      "DELAY_DUE_NAS                   NaN\n",
      "DELAY_DUE_SECURITY              NaN\n",
      "DELAY_DUE_LATE_AIRCRAFT         NaN\n",
      "Name: CANCELLED, dtype: float64\n"
     ]
    }
   ],
   "source": [
    "# Assuming df is your DataFrame\n",
    "correlation = df.corr()\n",
    "print(correlation['CANCELLED'])"
   ]
  },
  {
   "cell_type": "code",
   "execution_count": 7,
   "id": "daf9d122",
   "metadata": {},
   "outputs": [
    {
     "name": "stdout",
     "output_type": "stream",
     "text": [
      "<class 'pandas.core.frame.DataFrame'>\n",
      "RangeIndex: 3000000 entries, 0 to 2999999\n",
      "Data columns (total 32 columns):\n",
      " #   Column                   Dtype  \n",
      "---  ------                   -----  \n",
      " 0   FL_DATE                  object \n",
      " 1   AIRLINE                  object \n",
      " 2   AIRLINE_DOT              object \n",
      " 3   AIRLINE_CODE             object \n",
      " 4   DOT_CODE                 int64  \n",
      " 5   FL_NUMBER                int64  \n",
      " 6   ORIGIN                   object \n",
      " 7   ORIGIN_CITY              object \n",
      " 8   DEST                     object \n",
      " 9   DEST_CITY                object \n",
      " 10  CRS_DEP_TIME             int64  \n",
      " 11  DEP_TIME                 float64\n",
      " 12  DEP_DELAY                float64\n",
      " 13  TAXI_OUT                 float64\n",
      " 14  WHEELS_OFF               float64\n",
      " 15  WHEELS_ON                float64\n",
      " 16  TAXI_IN                  float64\n",
      " 17  CRS_ARR_TIME             int64  \n",
      " 18  ARR_TIME                 float64\n",
      " 19  ARR_DELAY                float64\n",
      " 20  CANCELLED                float64\n",
      " 21  CANCELLATION_CODE        object \n",
      " 22  DIVERTED                 float64\n",
      " 23  CRS_ELAPSED_TIME         float64\n",
      " 24  ELAPSED_TIME             float64\n",
      " 25  AIR_TIME                 float64\n",
      " 26  DISTANCE                 float64\n",
      " 27  DELAY_DUE_CARRIER        float64\n",
      " 28  DELAY_DUE_WEATHER        float64\n",
      " 29  DELAY_DUE_NAS            float64\n",
      " 30  DELAY_DUE_SECURITY       float64\n",
      " 31  DELAY_DUE_LATE_AIRCRAFT  float64\n",
      "dtypes: float64(19), int64(4), object(9)\n",
      "memory usage: 732.4+ MB\n"
     ]
    }
   ],
   "source": [
    "df.info()"
   ]
  },
  {
   "cell_type": "code",
   "execution_count": null,
   "id": "76ece9ea",
   "metadata": {},
   "outputs": [],
   "source": []
  }
 ],
 "metadata": {
  "kernelspec": {
   "display_name": "Python 3 (ipykernel)",
   "language": "python",
   "name": "python3"
  },
  "language_info": {
   "codemirror_mode": {
    "name": "ipython",
    "version": 3
   },
   "file_extension": ".py",
   "mimetype": "text/x-python",
   "name": "python",
   "nbconvert_exporter": "python",
   "pygments_lexer": "ipython3",
   "version": "3.10.14"
  }
 },
 "nbformat": 4,
 "nbformat_minor": 5
}
